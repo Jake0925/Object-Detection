{
  "nbformat": 4,
  "nbformat_minor": 0,
  "metadata": {
    "colab": {
      "name": "Yolo5_Helmet.ipynb",
      "provenance": [],
      "collapsed_sections": [
        "REf4TvgUMzBK"
      ],
      "include_colab_link": true
    },
    "kernelspec": {
      "name": "python3",
      "display_name": "Python 3"
    },
    "language_info": {
      "name": "python"
    },
    "accelerator": "GPU"
  },
  "cells": [
    {
      "cell_type": "markdown",
      "metadata": {
        "id": "view-in-github",
        "colab_type": "text"
      },
      "source": [
        "<a href=\"https://colab.research.google.com/github/Jake0925/Object-Detection/blob/main/Yolo5_Helmet.ipynb\" target=\"_parent\"><img src=\"https://colab.research.google.com/assets/colab-badge.svg\" alt=\"Open In Colab\"/></a>"
      ]
    },
    {
      "cell_type": "markdown",
      "metadata": {
        "id": "5ixjC18JLAOg"
      },
      "source": [
        "강의:  https://www.youtube.com/watch?v=T0DO1C8uYP8&list=PL6eFuyJRe7bh-_qfWHBAXZIWHMLXmf26M&index=1\n",
        "\n",
        "참고:  https://colab.research.google.com/github/ultralytics/yolov5/blob/master/tutorial.ipynb\n",
        "\n",
        "roboflow사이트에서 dataset URL을 복사한후 \n",
        "\n",
        "Colab창에서 좌측의 파일버튼을 눌러 sample_data를 먼저클릭 한번하고\n",
        "\n",
        "Colab에 코드를 작성하여 dataset파일을 다운받는다 "
      ]
    },
    {
      "cell_type": "code",
      "metadata": {
        "id": "FEEsnRsc-uTz"
      },
      "source": [
        "!curl -L https://public.roboflow.com/ds/hpbLk1QY9u?key=GCftDbGVes > roboflow.zip; unzip roboflow.zip; rm roboflow.zip"
      ],
      "execution_count": null,
      "outputs": []
    },
    {
      "cell_type": "markdown",
      "metadata": {
        "id": "zW5n0441NIqW"
      },
      "source": [
        "yolov5설치\n",
        "- content폴더안에 yplov5폴더가 생생된다"
      ]
    },
    {
      "cell_type": "code",
      "metadata": {
        "id": "SArP3Uj4GueR",
        "colab": {
          "base_uri": "https://localhost:8080/"
        },
        "outputId": "e55b3feb-a4b3-42f7-c27f-0a3f6ddb98af"
      },
      "source": [
        "%cd /content/drive/MyDrive/DeepLearning/Yolov5 \n",
        "# dataset파일이 속해있는 상위폴더인 content폴더로 이동\n",
        "!git clone https://github.com/ultralytics/yolov5.git\n",
        " # YOLO5파일이 있는 Repository경로를 복사하여 붙어넣는다"
      ],
      "execution_count": null,
      "outputs": [
        {
          "output_type": "stream",
          "text": [
            "/content/drive/MyDrive/DeepLearning/Yolov5\n",
            "Cloning into 'yolov5'...\n",
            "remote: Enumerating objects: 6127, done.\u001b[K\n",
            "remote: Counting objects: 100% (147/147), done.\u001b[K\n",
            "remote: Compressing objects: 100% (83/83), done.\u001b[K\n",
            "remote: Total 6127 (delta 83), reused 101 (delta 64), pack-reused 5980\u001b[K\n",
            "Receiving objects: 100% (6127/6127), 8.70 MiB | 10.63 MiB/s, done.\n",
            "Resolving deltas: 100% (4175/4175), done.\n"
          ],
          "name": "stdout"
        }
      ]
    },
    {
      "cell_type": "markdown",
      "metadata": {
        "id": "EAUbkWXlNwFm"
      },
      "source": [
        "yolov5를 위해 필요설치파일 다운로드 및 설치"
      ]
    },
    {
      "cell_type": "code",
      "metadata": {
        "id": "-gm92wmaFebd"
      },
      "source": [
        "%cd /content/drive/MyDrive/DeepLearning/Yolov5/yolov5\n",
        "!pip install -r requirements.txt"
      ],
      "execution_count": null,
      "outputs": []
    },
    {
      "cell_type": "code",
      "metadata": {
        "colab": {
          "base_uri": "https://localhost:8080/"
        },
        "id": "wAtHE3TYN2Oo",
        "outputId": "a25de75a-1601-42fb-b88c-3a906ed9eafe"
      },
      "source": [
        "%cat /content/dataset/data.yaml # Yolo애서 읽어드릴 train과 val의 경로, 클래스종류, 개수등 데이터가 들어있다,  nc-클래스갯수, names-각클래스이름"
      ],
      "execution_count": null,
      "outputs": [
        {
          "output_type": "stream",
          "text": [
            "train: ../train/images\n",
            "val: ../valid/images\n",
            "\n",
            "nc: 3\n",
            "names: ['head', 'helmet', 'person']"
          ],
          "name": "stdout"
        }
      ]
    },
    {
      "cell_type": "markdown",
      "metadata": {
        "id": "_km7l9WjT_Eo"
      },
      "source": [
        "이디지파일 list에 담기"
      ]
    },
    {
      "cell_type": "code",
      "metadata": {
        "colab": {
          "base_uri": "https://localhost:8080/"
        },
        "id": "PheFCwr4OK93",
        "outputId": "df865d07-b1ca-43e5-e0c1-8231478f1273"
      },
      "source": [
        "%cd /\n",
        "from glob import glob\n",
        "\n",
        "img_list = glob('/content/dataset/train/images/*.jpg')\n",
        "\n",
        "print(len(img_list)) # 총 이미지 갯수"
      ],
      "execution_count": null,
      "outputs": [
        {
          "output_type": "stream",
          "text": [
            "/\n",
            "5364\n"
          ],
          "name": "stdout"
        }
      ]
    },
    {
      "cell_type": "markdown",
      "metadata": {
        "id": "zEcYVJ31UHcZ"
      },
      "source": [
        "train과 valid 이미지 데이터로 분류하여 파일이름 List에 담기"
      ]
    },
    {
      "cell_type": "code",
      "metadata": {
        "colab": {
          "base_uri": "https://localhost:8080/"
        },
        "id": "0DpXviFbPCXw",
        "outputId": "a10a52bb-5a52-4d12-c100-cf7abb481539"
      },
      "source": [
        "from sklearn.model_selection import train_test_split\n",
        "train_img_list, val_img_list = train_test_split(img_list, test_size=0.2, random_state=5000)\n",
        "print(len(train_img_list), len(val_img_list))"
      ],
      "execution_count": null,
      "outputs": [
        {
          "output_type": "stream",
          "text": [
            "4291 1073\n"
          ],
          "name": "stdout"
        }
      ]
    },
    {
      "cell_type": "markdown",
      "metadata": {
        "id": "qguCDMSZUOWM"
      },
      "source": [
        "train과 val 로 분류된 이미지 파일이름 각각의 txt파일에 write\n",
        " \n",
        " -txt파일은 이미지가 포함되어있는폴더의 상위폴더에 있어야한다 "
      ]
    },
    {
      "cell_type": "code",
      "metadata": {
        "id": "F-X7T2ZzQIFe"
      },
      "source": [
        "with open('/content/dataset/train/train.txt', 'w') as f:\n",
        "  f.write('\\n'.join(train_img_list) + '\\n')\n",
        "\n",
        "with open('/content/dataset/train/val.txt', 'w') as f:\n",
        "  f.write('\\n'.join(val_img_list) + '\\n')"
      ],
      "execution_count": null,
      "outputs": []
    },
    {
      "cell_type": "markdown",
      "metadata": {
        "id": "GOfkj0TNUzWY"
      },
      "source": [
        "#  yaml파일에 train 과 val의 이미지파일이 적혀있는 txt파일경로 값 변경"
      ]
    },
    {
      "cell_type": "code",
      "metadata": {
        "colab": {
          "base_uri": "https://localhost:8080/"
        },
        "id": "v_2FCRu6Rmvx",
        "outputId": "33faa46a-6eee-4b68-e2f1-20160de5b258"
      },
      "source": [
        "import yaml\n",
        "\n",
        "with open('/content/dataset/data.yaml', 'r') as f:\n",
        "  data = yaml.load(f)\n",
        "\n",
        "print(data)\n",
        "\n",
        "data['train'] = '/content/dataset/train/train.txt'\n",
        "data['val'] = '/content/dataset/train/val.txt'\n",
        "\n",
        "with open('/content/dataset/data.yaml', 'w') as f:\n",
        "  yaml.dump(data, f)\n",
        "\n",
        "print(data)"
      ],
      "execution_count": null,
      "outputs": [
        {
          "output_type": "stream",
          "text": [
            "{'names': ['head', 'helmet', 'person'], 'nc': 3, 'train': '/content/dataset/train/train.txt', 'val': '/content/dataset/train/val.txt'}\n",
            "{'names': ['head', 'helmet', 'person'], 'nc': 3, 'train': '/content/dataset/train/train.txt', 'val': '/content/dataset/train/val.txt'}\n"
          ],
          "name": "stdout"
        },
        {
          "output_type": "stream",
          "text": [
            "/usr/local/lib/python3.7/dist-packages/ipykernel_launcher.py:4: YAMLLoadWarning: calling yaml.load() without Loader=... is deprecated, as the default Loader is unsafe. Please read https://msg.pyyaml.org/load for full details.\n",
            "  after removing the cwd from sys.path.\n"
          ],
          "name": "stderr"
        }
      ]
    },
    {
      "cell_type": "markdown",
      "metadata": {
        "id": "v2wBHBHCVZZG"
      },
      "source": [
        "# 모델 학습"
      ]
    },
    {
      "cell_type": "code",
      "metadata": {
        "id": "oaa1E1qoULER"
      },
      "source": [
        "%cd /content/yolov5/\n",
        "\n",
        "!python train.py --img 416 --batch 16 --epochs 70 --data /content/dataset/data.yaml --cfg ./models/yolov5s.yaml --weights yolov5s.pt --name Helmet_yolov5s_results\n",
        "\n",
        "#cfg - 모델을 정의한 파일로서 yolov5/models 폴더안에 yolov5l.yaml, yolov5m.yaml, yolov5s.yaml, yolo5x.yaml등으로 \n",
        "#정의되어있다다"
      ],
      "execution_count": null,
      "outputs": []
    },
    {
      "cell_type": "markdown",
      "metadata": {
        "id": "j5vig8u0VeKj"
      },
      "source": [
        "텐서보드에 학습결과 표시"
      ]
    },
    {
      "cell_type": "code",
      "metadata": {
        "id": "fiLlXgexXaZN"
      },
      "source": [
        "%load_ext tensorboard\n",
        "%tensorboard --logdir /content/yolov5/runs/"
      ],
      "execution_count": null,
      "outputs": []
    },
    {
      "cell_type": "markdown",
      "metadata": {
        "id": "6dCF2u-FSZqJ"
      },
      "source": [
        "valid 이미지 테스트"
      ]
    },
    {
      "cell_type": "code",
      "metadata": {
        "colab": {
          "base_uri": "https://localhost:8080/",
          "height": 653
        },
        "id": "AfXcALTSLxfW",
        "outputId": "75d689a8-b186-46e2-f1b8-1965ac2505b6"
      },
      "source": [
        "from IPython.display import Image\n",
        "import os\n",
        "\n",
        "val_img_path = val_img_list[2]\n",
        "\n",
        "!python detect.py --weights /content/yolov5/runs/train/gun_yolov5s_results/weights/best.pt --img 416 --conf 0.5 --source \"{val_img_path}\" \n",
        "# conf - 최소 매칭율, img 416 - 이미지사이즈가 416픽셀, weights - train으로 추출된 학습결과\n",
        "Image(os.path.join('/content/yolov5/runs/detect/exp', os.path.basename(val_img_path))) # 저장경로에 저장된 검출이미지모습보여주기모습보여주기"
      ],
      "execution_count": null,
      "outputs": [
        {
          "output_type": "stream",
          "text": [
            "Namespace(agnostic_nms=False, augment=False, classes=None, conf_thres=0.5, device='', exist_ok=False, hide_conf=False, hide_labels=False, img_size=416, iou_thres=0.45, line_thickness=3, name='exp', nosave=False, project='runs/detect', save_conf=False, save_crop=False, save_txt=False, source='/content/dataset/train/images/005212_jpg.rf.f13eef5008a7d33422485257b4b8e7fc.jpg', update=False, view_img=False, weights=['/content/yolov5/runs/train/gun_yolov5s_results/weights/best.pt'])\n",
            "YOLOv5 🚀 v5.0-39-g1849916 torch 1.8.1+cu101 CUDA:0 (Tesla T4, 15109.75MB)\n",
            "\n",
            "Fusing layers... \n",
            "Model Summary: 224 layers, 7059304 parameters, 0 gradients, 16.3 GFLOPS\n",
            "image 1/1 /content/dataset/train/images/005212_jpg.rf.f13eef5008a7d33422485257b4b8e7fc.jpg: 416x416 2 helmets, Done. (0.009s)\n",
            "Results saved to runs/detect/exp\n",
            "Done. (0.019s)\n"
          ],
          "name": "stdout"
        },
        {
          "output_type": "execute_result",
          "data": {
            "image/jpeg": "[encoded data removed]",
            "text/plain": [
              "<IPython.core.display.Image object>"
            ]
          },
          "metadata": {
            "tags": []
          },
          "execution_count": 15
        }
      ]
    },
    {
      "cell_type": "markdown",
      "metadata": {
        "id": "20qv355wSVYc"
      },
      "source": [
        "# 이미지 테스트\n",
        "- 학습데이터 .pt 파일만 불러와서 사용하는 방법\n"
      ]
    },
    {
      "cell_type": "code",
      "metadata": {
        "colab": {
          "base_uri": "https://localhost:8080/"
        },
        "id": "80jptI8GOVrX",
        "outputId": "05b85085-11b9-4188-b2df-dcb72ceabc52"
      },
      "source": [
        "%cd /\n",
        "from glob import glob\n",
        "\n",
        "Testimg_list = glob('/content/drive/MyDrive/aaa/*.jpg')  # 이미지파일 경로입력하여 List에 담기\n",
        "ImgCount = len(Testimg_list) # 폴더안의 이미지 파일 총갯수\n",
        "print(ImgCount) "
      ],
      "execution_count": null,
      "outputs": [
        {
          "output_type": "stream",
          "text": [
            "/\n",
            "130\n"
          ],
          "name": "stdout"
        }
      ]
    },
    {
      "cell_type": "code",
      "metadata": {
        "id": "O1oVp32WR2sm",
        "colab": {
          "base_uri": "https://localhost:8080/"
        },
        "outputId": "8b89a7e7-6dcf-4bb1-866e-49f76f70864f"
      },
      "source": [
        "%cd /content/drive/MyDrive/DeepLearning/Yolov5/yolov5\n",
        "# detect.py 파일이 들어있는 경로를 반드시 지정해줘야한다\n",
        "\n",
        "for i in range(ImgCount):\n",
        "  val_img_path = Testimg_list[i]  # 이미지파일 경로삽입\n",
        "  !python detect.py --weights /content/drive/MyDrive/DeepLearning/Yolov5/best.pt --img 416 --conf 0.5 --source \"{val_img_path}\" --project \"detect2\" --name \"Result\" --save-txt --nosave  --exist-ok \n",
        "# conf - 최소 매칭율, \n",
        "# img 416 - 이미지사이즈를 416픽셀 크기로 변환하여 검사\n",
        "# weights - 학습된 \".pt\"파일이 있는 경로 지정 \n",
        "# --source - 검사할 이미지파일 경로\n",
        "# --project - 결과값을 저장할 폴더이름 초기값 detect\n",
        "# --name - 결과값을 저장을 하위폴더이름 초기값 exp\n",
        "# --save-txt - label값 저장사용\n",
        "# --nosave - 결과표시된 이미지 저장 사용안함\n",
        "# --exist-ok - 결과값 저장시 같은이름의 폴더저장, 이걸 사용안하는경우 검사할때마대 새로운이름의 폴더가 생성됨"
      ],
      "execution_count": null,
      "outputs": [
        {
          "output_type": "stream",
          "text": [
            "/content/drive/MyDrive/DeepLearning/Yolov5/yolov5\n",
            "Namespace(agnostic_nms=False, augment=False, classes=None, conf_thres=0.5, device='', exist_ok=False, hide_conf=False, hide_labels=False, img_size=416, iou_thres=0.45, line_thickness=3, name='Result', nosave=False, project='detect2', save_conf=False, save_crop=False, save_txt=True, source='/content/drive/MyDrive/aaa/001150.jpg', update=False, view_img=False, weights=['/content/drive/MyDrive/DeepLearning/Yolov5/best.pt'])\n",
            "YOLOv5 🚀 v5.0-60-ge2a80c6 torch 1.8.1+cu101 CUDA:0 (Tesla T4, 15109.75MB)\n",
            "\n",
            "Fusing layers... \n",
            "Model Summary: 224 layers, 7059304 parameters, 0 gradients\n",
            "image 1/1 /content/drive/MyDrive/aaa/001150.jpg: 288x416 4 helmets, Done. (0.010s)\n",
            "Results saved to detect2/Result\n",
            "1 labels saved to detect2/Result/labels\n",
            "Done. (0.827s)\n",
            "Namespace(agnostic_nms=False, augment=False, classes=None, conf_thres=0.5, device='', exist_ok=False, hide_conf=False, hide_labels=False, img_size=416, iou_thres=0.45, line_thickness=3, name='Result', nosave=False, project='detect2', save_conf=False, save_crop=False, save_txt=True, source='/content/drive/MyDrive/aaa/001355.jpg', update=False, view_img=False, weights=['/content/drive/MyDrive/DeepLearning/Yolov5/best.pt'])\n",
            "YOLOv5 🚀 v5.0-60-ge2a80c6 torch 1.8.1+cu101 CUDA:0 (Tesla T4, 15109.75MB)\n",
            "\n",
            "Fusing layers... \n",
            "Model Summary: 224 layers, 7059304 parameters, 0 gradients\n",
            "image 1/1 /content/drive/MyDrive/aaa/001355.jpg: 416x288 1 helmet, Done. (0.009s)\n",
            "Results saved to detect2/Result2\n",
            "1 labels saved to detect2/Result2/labels\n",
            "Done. (0.819s)\n",
            "Namespace(agnostic_nms=False, augment=False, classes=None, conf_thres=0.5, device='', exist_ok=False, hide_conf=False, hide_labels=False, img_size=416, iou_thres=0.45, line_thickness=3, name='Result', nosave=False, project='detect2', save_conf=False, save_crop=False, save_txt=True, source='/content/drive/MyDrive/aaa/001274.jpg', update=False, view_img=False, weights=['/content/drive/MyDrive/DeepLearning/Yolov5/best.pt'])\n",
            "YOLOv5 🚀 v5.0-60-ge2a80c6 torch 1.8.1+cu101 CUDA:0 (Tesla T4, 15109.75MB)\n",
            "\n",
            "Fusing layers... \n",
            "Model Summary: 224 layers, 7059304 parameters, 0 gradients\n",
            "image 1/1 /content/drive/MyDrive/aaa/001274.jpg: 288x416 2 helmets, Done. (0.009s)\n",
            "Results saved to detect2/Result3\n",
            "1 labels saved to detect2/Result3/labels\n",
            "Done. (1.110s)\n",
            "Namespace(agnostic_nms=False, augment=False, classes=None, conf_thres=0.5, device='', exist_ok=False, hide_conf=False, hide_labels=False, img_size=416, iou_thres=0.45, line_thickness=3, name='Result', nosave=False, project='detect2', save_conf=False, save_crop=False, save_txt=True, source='/content/drive/MyDrive/aaa/001387.jpg', update=False, view_img=False, weights=['/content/drive/MyDrive/DeepLearning/Yolov5/best.pt'])\n",
            "YOLOv5 🚀 v5.0-60-ge2a80c6 torch 1.8.1+cu101 CUDA:0 (Tesla T4, 15109.75MB)\n",
            "\n",
            "Fusing layers... \n",
            "Model Summary: 224 layers, 7059304 parameters, 0 gradients\n",
            "image 1/1 /content/drive/MyDrive/aaa/001387.jpg: 288x416 1 helmet, Done. (0.009s)\n",
            "Results saved to detect2/Result4\n",
            "1 labels saved to detect2/Result4/labels\n",
            "Done. (1.294s)\n",
            "Namespace(agnostic_nms=False, augment=False, classes=None, conf_thres=0.5, device='', exist_ok=False, hide_conf=False, hide_labels=False, img_size=416, iou_thres=0.45, line_thickness=3, name='Result', nosave=False, project='detect2', save_conf=False, save_crop=False, save_txt=True, source='/content/drive/MyDrive/aaa/part2_000001.jpg', update=False, view_img=False, weights=['/content/drive/MyDrive/DeepLearning/Yolov5/best.pt'])\n",
            "YOLOv5 🚀 v5.0-60-ge2a80c6 torch 1.8.1+cu101 CUDA:0 (Tesla T4, 15109.75MB)\n",
            "\n",
            "Fusing layers... \n",
            "Model Summary: 224 layers, 7059304 parameters, 0 gradients\n",
            "image 1/1 /content/drive/MyDrive/aaa/part2_000001.jpg: 320x416 1 helmet, Done. (0.010s)\n",
            "Results saved to detect2/Result5\n",
            "1 labels saved to detect2/Result5/labels\n",
            "Done. (1.128s)\n",
            "Namespace(agnostic_nms=False, augment=False, classes=None, conf_thres=0.5, device='', exist_ok=False, hide_conf=False, hide_labels=False, img_size=416, iou_thres=0.45, line_thickness=3, name='Result', nosave=False, project='detect2', save_conf=False, save_crop=False, save_txt=True, source='/content/drive/MyDrive/aaa/part2_000335.jpg', update=False, view_img=False, weights=['/content/drive/MyDrive/DeepLearning/Yolov5/best.pt'])\n",
            "YOLOv5 🚀 v5.0-60-ge2a80c6 torch 1.8.1+cu101 CUDA:0 (Tesla T4, 15109.75MB)\n",
            "\n",
            "Fusing layers... \n",
            "Model Summary: 224 layers, 7059304 parameters, 0 gradients\n",
            "image 1/1 /content/drive/MyDrive/aaa/part2_000335.jpg: 288x416 3 helmets, Done. (0.009s)\n",
            "Results saved to detect2/Result6\n",
            "1 labels saved to detect2/Result6/labels\n",
            "Done. (1.126s)\n",
            "Namespace(agnostic_nms=False, augment=False, classes=None, conf_thres=0.5, device='', exist_ok=False, hide_conf=False, hide_labels=False, img_size=416, iou_thres=0.45, line_thickness=3, name='Result', nosave=False, project='detect2', save_conf=False, save_crop=False, save_txt=True, source='/content/drive/MyDrive/aaa/part2_000333.jpg', update=False, view_img=False, weights=['/content/drive/MyDrive/DeepLearning/Yolov5/best.pt'])\n",
            "YOLOv5 🚀 v5.0-60-ge2a80c6 torch 1.8.1+cu101 CUDA:0 (Tesla T4, 15109.75MB)\n",
            "\n",
            "Fusing layers... \n",
            "Model Summary: 224 layers, 7059304 parameters, 0 gradients\n",
            "image 1/1 /content/drive/MyDrive/aaa/part2_000333.jpg: 416x416 1 helmet, Done. (0.009s)\n",
            "Results saved to detect2/Result7\n",
            "1 labels saved to detect2/Result7/labels\n",
            "Done. (0.736s)\n",
            "Namespace(agnostic_nms=False, augment=False, classes=None, conf_thres=0.5, device='', exist_ok=False, hide_conf=False, hide_labels=False, img_size=416, iou_thres=0.45, line_thickness=3, name='Result', nosave=False, project='detect2', save_conf=False, save_crop=False, save_txt=True, source='/content/drive/MyDrive/aaa/part2_000293.jpg', update=False, view_img=False, weights=['/content/drive/MyDrive/DeepLearning/Yolov5/best.pt'])\n",
            "YOLOv5 🚀 v5.0-60-ge2a80c6 torch 1.8.1+cu101 CUDA:0 (Tesla T4, 15109.75MB)\n",
            "\n",
            "Fusing layers... \n",
            "Model Summary: 224 layers, 7059304 parameters, 0 gradients\n",
            "image 1/1 /content/drive/MyDrive/aaa/part2_000293.jpg: 288x416 3 helmets, Done. (0.009s)\n",
            "Results saved to detect2/Result8\n",
            "1 labels saved to detect2/Result8/labels\n",
            "Done. (0.834s)\n",
            "Namespace(agnostic_nms=False, augment=False, classes=None, conf_thres=0.5, device='', exist_ok=False, hide_conf=False, hide_labels=False, img_size=416, iou_thres=0.45, line_thickness=3, name='Result', nosave=False, project='detect2', save_conf=False, save_crop=False, save_txt=True, source='/content/drive/MyDrive/aaa/part2_000292.jpg', update=False, view_img=False, weights=['/content/drive/MyDrive/DeepLearning/Yolov5/best.pt'])\n",
            "YOLOv5 🚀 v5.0-60-ge2a80c6 torch 1.8.1+cu101 CUDA:0 (Tesla T4, 15109.75MB)\n",
            "\n",
            "Fusing layers... \n",
            "Model Summary: 224 layers, 7059304 parameters, 0 gradients\n",
            "image 1/1 /content/drive/MyDrive/aaa/part2_000292.jpg: 416x416 3 helmets, Done. (0.009s)\n",
            "Results saved to detect2/Result9\n",
            "1 labels saved to detect2/Result9/labels\n",
            "Done. (1.018s)\n",
            "Namespace(agnostic_nms=False, augment=False, classes=None, conf_thres=0.5, device='', exist_ok=False, hide_conf=False, hide_labels=False, img_size=416, iou_thres=0.45, line_thickness=3, name='Result', nosave=False, project='detect2', save_conf=False, save_crop=False, save_txt=True, source='/content/drive/MyDrive/aaa/part2_000264.jpg', update=False, view_img=False, weights=['/content/drive/MyDrive/DeepLearning/Yolov5/best.pt'])\n",
            "YOLOv5 🚀 v5.0-60-ge2a80c6 torch 1.8.1+cu101 CUDA:0 (Tesla T4, 15109.75MB)\n",
            "\n",
            "Fusing layers... \n",
            "Model Summary: 224 layers, 7059304 parameters, 0 gradients\n",
            "image 1/1 /content/drive/MyDrive/aaa/part2_000264.jpg: 224x416 2 helmets, Done. (0.009s)\n",
            "Results saved to detect2/Result10\n",
            "1 labels saved to detect2/Result10/labels\n",
            "Done. (1.127s)\n",
            "Namespace(agnostic_nms=False, augment=False, classes=None, conf_thres=0.5, device='', exist_ok=False, hide_conf=False, hide_labels=False, img_size=416, iou_thres=0.45, line_thickness=3, name='Result', nosave=False, project='detect2', save_conf=False, save_crop=False, save_txt=True, source='/content/drive/MyDrive/aaa/part2_000151.jpg', update=False, view_img=False, weights=['/content/drive/MyDrive/DeepLearning/Yolov5/best.pt'])\n",
            "YOLOv5 🚀 v5.0-60-ge2a80c6 torch 1.8.1+cu101 CUDA:0 (Tesla T4, 15109.75MB)\n",
            "\n",
            "Fusing layers... \n",
            "Model Summary: 224 layers, 7059304 parameters, 0 gradients\n",
            "image 1/1 /content/drive/MyDrive/aaa/part2_000151.jpg: 416x320 2 helmets, Done. (0.010s)\n",
            "Results saved to detect2/Result11\n",
            "1 labels saved to detect2/Result11/labels\n",
            "Done. (0.984s)\n",
            "Namespace(agnostic_nms=False, augment=False, classes=None, conf_thres=0.5, device='', exist_ok=False, hide_conf=False, hide_labels=False, img_size=416, iou_thres=0.45, line_thickness=3, name='Result', nosave=False, project='detect2', save_conf=False, save_crop=False, save_txt=True, source='/content/drive/MyDrive/aaa/part2_000099.jpg', update=False, view_img=False, weights=['/content/drive/MyDrive/DeepLearning/Yolov5/best.pt'])\n",
            "YOLOv5 🚀 v5.0-60-ge2a80c6 torch 1.8.1+cu101 CUDA:0 (Tesla T4, 15109.75MB)\n",
            "\n",
            "Fusing layers... \n",
            "Model Summary: 224 layers, 7059304 parameters, 0 gradients\n",
            "image 1/1 /content/drive/MyDrive/aaa/part2_000099.jpg: 288x416 1 helmet, Done. (0.010s)\n",
            "Results saved to detect2/Result12\n",
            "1 labels saved to detect2/Result12/labels\n",
            "Done. (4.518s)\n",
            "Namespace(agnostic_nms=False, augment=False, classes=None, conf_thres=0.5, device='', exist_ok=False, hide_conf=False, hide_labels=False, img_size=416, iou_thres=0.45, line_thickness=3, name='Result', nosave=False, project='detect2', save_conf=False, save_crop=False, save_txt=True, source='/content/drive/MyDrive/aaa/part2_000425.jpg', update=False, view_img=False, weights=['/content/drive/MyDrive/DeepLearning/Yolov5/best.pt'])\n",
            "YOLOv5 🚀 2021-5-3 torch 1.8.1+cu101 CUDA:0 (Tesla T4, 15109.75MB)\n",
            "\n",
            "Fusing layers... \n",
            "Model Summary: 224 layers, 7059304 parameters, 0 gradients\n",
            "image 1/1 /content/drive/MyDrive/aaa/part2_000425.jpg: 288x416 2 helmets, Done. (0.009s)\n",
            "Results saved to detect2/Result13\n",
            "1 labels saved to detect2/Result13/labels\n",
            "Done. (0.871s)\n",
            "Namespace(agnostic_nms=False, augment=False, classes=None, conf_thres=0.5, device='', exist_ok=False, hide_conf=False, hide_labels=False, img_size=416, iou_thres=0.45, line_thickness=3, name='Result', nosave=False, project='detect2', save_conf=False, save_crop=False, save_txt=True, source='/content/drive/MyDrive/aaa/part2_000389.jpg', update=False, view_img=False, weights=['/content/drive/MyDrive/DeepLearning/Yolov5/best.pt'])\n",
            "YOLOv5 🚀 2021-5-3 torch 1.8.1+cu101 CUDA:0 (Tesla T4, 15109.75MB)\n",
            "\n",
            "Fusing layers... \n",
            "Model Summary: 224 layers, 7059304 parameters, 0 gradients\n",
            "image 1/1 /content/drive/MyDrive/aaa/part2_000389.jpg: 288x416 1 helmet, Done. (0.009s)\n",
            "Results saved to detect2/Result14\n",
            "1 labels saved to detect2/Result14/labels\n",
            "Done. (1.438s)\n",
            "Namespace(agnostic_nms=False, augment=False, classes=None, conf_thres=0.5, device='', exist_ok=False, hide_conf=False, hide_labels=False, img_size=416, iou_thres=0.45, line_thickness=3, name='Result', nosave=False, project='detect2', save_conf=False, save_crop=False, save_txt=True, source='/content/drive/MyDrive/aaa/part2_000370.jpg', update=False, view_img=False, weights=['/content/drive/MyDrive/DeepLearning/Yolov5/best.pt'])\n",
            "YOLOv5 🚀 v5.0-60-ge2a80c6 torch 1.8.1+cu101 CUDA:0 (Tesla T4, 15109.75MB)\n",
            "\n",
            "Fusing layers... \n",
            "Model Summary: 224 layers, 7059304 parameters, 0 gradients\n",
            "image 1/1 /content/drive/MyDrive/aaa/part2_000370.jpg: 320x416 2 helmets, Done. (0.009s)\n",
            "Results saved to detect2/Result15\n",
            "1 labels saved to detect2/Result15/labels\n",
            "Done. (1.089s)\n",
            "Namespace(agnostic_nms=False, augment=False, classes=None, conf_thres=0.5, device='', exist_ok=False, hide_conf=False, hide_labels=False, img_size=416, iou_thres=0.45, line_thickness=3, name='Result', nosave=False, project='detect2', save_conf=False, save_crop=False, save_txt=True, source='/content/drive/MyDrive/aaa/part2_000369.jpg', update=False, view_img=False, weights=['/content/drive/MyDrive/DeepLearning/Yolov5/best.pt'])\n",
            "YOLOv5 🚀 v5.0-60-ge2a80c6 torch 1.8.1+cu101 CUDA:0 (Tesla T4, 15109.75MB)\n",
            "\n",
            "Fusing layers... \n",
            "Model Summary: 224 layers, 7059304 parameters, 0 gradients\n",
            "image 1/1 /content/drive/MyDrive/aaa/part2_000369.jpg: 256x416 4 helmets, Done. (0.010s)\n",
            "Results saved to detect2/Result16\n",
            "1 labels saved to detect2/Result16/labels\n",
            "Done. (0.866s)\n",
            "Namespace(agnostic_nms=False, augment=False, classes=None, conf_thres=0.5, device='', exist_ok=False, hide_conf=False, hide_labels=False, img_size=416, iou_thres=0.45, line_thickness=3, name='Result', nosave=False, project='detect2', save_conf=False, save_crop=False, save_txt=True, source='/content/drive/MyDrive/aaa/part2_000365.jpg', update=False, view_img=False, weights=['/content/drive/MyDrive/DeepLearning/Yolov5/best.pt'])\n",
            "YOLOv5 🚀 v5.0-60-ge2a80c6 torch 1.8.1+cu101 CUDA:0 (Tesla T4, 15109.75MB)\n",
            "\n",
            "Fusing layers... \n",
            "Model Summary: 224 layers, 7059304 parameters, 0 gradients\n",
            "image 1/1 /content/drive/MyDrive/aaa/part2_000365.jpg: 288x416 2 helmets, Done. (0.009s)\n",
            "Results saved to detect2/Result17\n",
            "1 labels saved to detect2/Result17/labels\n",
            "Done. (1.585s)\n",
            "Namespace(agnostic_nms=False, augment=False, classes=None, conf_thres=0.5, device='', exist_ok=False, hide_conf=False, hide_labels=False, img_size=416, iou_thres=0.45, line_thickness=3, name='Result', nosave=False, project='detect2', save_conf=False, save_crop=False, save_txt=True, source='/content/drive/MyDrive/aaa/part2_000341.jpg', update=False, view_img=False, weights=['/content/drive/MyDrive/DeepLearning/Yolov5/best.pt'])\n",
            "YOLOv5 🚀 2021-5-3 torch 1.8.1+cu101 CUDA:0 (Tesla T4, 15109.75MB)\n",
            "\n",
            "Fusing layers... \n",
            "Model Summary: 224 layers, 7059304 parameters, 0 gradients\n",
            "image 1/1 /content/drive/MyDrive/aaa/part2_000341.jpg: 288x416 2 helmets, Done. (0.010s)\n",
            "Results saved to detect2/Result18\n",
            "1 labels saved to detect2/Result18/labels\n",
            "Done. (1.018s)\n",
            "Namespace(agnostic_nms=False, augment=False, classes=None, conf_thres=0.5, device='', exist_ok=False, hide_conf=False, hide_labels=False, img_size=416, iou_thres=0.45, line_thickness=3, name='Result', nosave=False, project='detect2', save_conf=False, save_crop=False, save_txt=True, source='/content/drive/MyDrive/aaa/part2_000620.jpg', update=False, view_img=False, weights=['/content/drive/MyDrive/DeepLearning/Yolov5/best.pt'])\n",
            "YOLOv5 🚀 2021-5-3 torch 1.8.1+cu101 CUDA:0 (Tesla T4, 15109.75MB)\n",
            "\n",
            "Fusing layers... \n",
            "Model Summary: 224 layers, 7059304 parameters, 0 gradients\n",
            "image 1/1 /content/drive/MyDrive/aaa/part2_000620.jpg: 288x416 2 helmets, Done. (0.009s)\n",
            "Results saved to detect2/Result19\n",
            "1 labels saved to detect2/Result19/labels\n",
            "Done. (1.268s)\n",
            "Namespace(agnostic_nms=False, augment=False, classes=None, conf_thres=0.5, device='', exist_ok=False, hide_conf=False, hide_labels=False, img_size=416, iou_thres=0.45, line_thickness=3, name='Result', nosave=False, project='detect2', save_conf=False, save_crop=False, save_txt=True, source='/content/drive/MyDrive/aaa/part2_000556.jpg', update=False, view_img=False, weights=['/content/drive/MyDrive/DeepLearning/Yolov5/best.pt'])\n",
            "YOLOv5 🚀 v5.0-60-ge2a80c6 torch 1.8.1+cu101 CUDA:0 (Tesla T4, 15109.75MB)\n",
            "\n",
            "Fusing layers... \n",
            "Model Summary: 224 layers, 7059304 parameters, 0 gradients\n",
            "image 1/1 /content/drive/MyDrive/aaa/part2_000556.jpg: 416x288 1 helmet, Done. (0.009s)\n",
            "Results saved to detect2/Result20\n",
            "1 labels saved to detect2/Result20/labels\n",
            "Done. (0.952s)\n",
            "Namespace(agnostic_nms=False, augment=False, classes=None, conf_thres=0.5, device='', exist_ok=False, hide_conf=False, hide_labels=False, img_size=416, iou_thres=0.45, line_thickness=3, name='Result', nosave=False, project='detect2', save_conf=False, save_crop=False, save_txt=True, source='/content/drive/MyDrive/aaa/part2_000552.jpg', update=False, view_img=False, weights=['/content/drive/MyDrive/DeepLearning/Yolov5/best.pt'])\n",
            "YOLOv5 🚀 v5.0-60-ge2a80c6 torch 1.8.1+cu101 CUDA:0 (Tesla T4, 15109.75MB)\n",
            "\n",
            "Fusing layers... \n",
            "Model Summary: 224 layers, 7059304 parameters, 0 gradients\n",
            "image 1/1 /content/drive/MyDrive/aaa/part2_000552.jpg: 288x416 1 helmet, Done. (0.012s)\n",
            "Results saved to detect2/Result21\n",
            "1 labels saved to detect2/Result21/labels\n",
            "Done. (0.800s)\n",
            "Namespace(agnostic_nms=False, augment=False, classes=None, conf_thres=0.5, device='', exist_ok=False, hide_conf=False, hide_labels=False, img_size=416, iou_thres=0.45, line_thickness=3, name='Result', nosave=False, project='detect2', save_conf=False, save_crop=False, save_txt=True, source='/content/drive/MyDrive/aaa/part2_000538.jpg', update=False, view_img=False, weights=['/content/drive/MyDrive/DeepLearning/Yolov5/best.pt'])\n",
            "YOLOv5 🚀 v5.0-60-ge2a80c6 torch 1.8.1+cu101 CUDA:0 (Tesla T4, 15109.75MB)\n",
            "\n",
            "Fusing layers... \n",
            "Model Summary: 224 layers, 7059304 parameters, 0 gradients\n",
            "image 1/1 /content/drive/MyDrive/aaa/part2_000538.jpg: 288x416 3 helmets, Done. (0.009s)\n",
            "Results saved to detect2/Result22\n",
            "1 labels saved to detect2/Result22/labels\n",
            "Done. (1.164s)\n",
            "Namespace(agnostic_nms=False, augment=False, classes=None, conf_thres=0.5, device='', exist_ok=False, hide_conf=False, hide_labels=False, img_size=416, iou_thres=0.45, line_thickness=3, name='Result', nosave=False, project='detect2', save_conf=False, save_crop=False, save_txt=True, source='/content/drive/MyDrive/aaa/part2_000498.jpg', update=False, view_img=False, weights=['/content/drive/MyDrive/DeepLearning/Yolov5/best.pt'])\n",
            "YOLOv5 🚀 v5.0-60-ge2a80c6 torch 1.8.1+cu101 CUDA:0 (Tesla T4, 15109.75MB)\n",
            "\n",
            "Fusing layers... \n",
            "Model Summary: 224 layers, 7059304 parameters, 0 gradients\n",
            "image 1/1 /content/drive/MyDrive/aaa/part2_000498.jpg: 416x352 1 helmet, Done. (0.009s)\n",
            "Results saved to detect2/Result23\n",
            "1 labels saved to detect2/Result23/labels\n",
            "Done. (0.805s)\n",
            "Namespace(agnostic_nms=False, augment=False, classes=None, conf_thres=0.5, device='', exist_ok=False, hide_conf=False, hide_labels=False, img_size=416, iou_thres=0.45, line_thickness=3, name='Result', nosave=False, project='detect2', save_conf=False, save_crop=False, save_txt=True, source='/content/drive/MyDrive/aaa/part2_000453.jpg', update=False, view_img=False, weights=['/content/drive/MyDrive/DeepLearning/Yolov5/best.pt'])\n",
            "YOLOv5 🚀 v5.0-60-ge2a80c6 torch 1.8.1+cu101 CUDA:0 (Tesla T4, 15109.75MB)\n",
            "\n",
            "Fusing layers... \n",
            "Model Summary: 224 layers, 7059304 parameters, 0 gradients\n",
            "image 1/1 /content/drive/MyDrive/aaa/part2_000453.jpg: 288x416 3 helmets, Done. (0.009s)\n",
            "Results saved to detect2/Result24\n",
            "1 labels saved to detect2/Result24/labels\n",
            "Done. (0.875s)\n",
            "Namespace(agnostic_nms=False, augment=False, classes=None, conf_thres=0.5, device='', exist_ok=False, hide_conf=False, hide_labels=False, img_size=416, iou_thres=0.45, line_thickness=3, name='Result', nosave=False, project='detect2', save_conf=False, save_crop=False, save_txt=True, source='/content/drive/MyDrive/aaa/part2_000441.jpg', update=False, view_img=False, weights=['/content/drive/MyDrive/DeepLearning/Yolov5/best.pt'])\n",
            "YOLOv5 🚀 v5.0-60-ge2a80c6 torch 1.8.1+cu101 CUDA:0 (Tesla T4, 15109.75MB)\n",
            "\n",
            "Fusing layers... \n",
            "Model Summary: 224 layers, 7059304 parameters, 0 gradients\n",
            "image 1/1 /content/drive/MyDrive/aaa/part2_000441.jpg: 288x416 1 helmet, Done. (0.011s)\n",
            "Results saved to detect2/Result25\n",
            "1 labels saved to detect2/Result25/labels\n",
            "Done. (0.633s)\n",
            "Namespace(agnostic_nms=False, augment=False, classes=None, conf_thres=0.5, device='', exist_ok=False, hide_conf=False, hide_labels=False, img_size=416, iou_thres=0.45, line_thickness=3, name='Result', nosave=False, project='detect2', save_conf=False, save_crop=False, save_txt=True, source='/content/drive/MyDrive/aaa/part2_000433.jpg', update=False, view_img=False, weights=['/content/drive/MyDrive/DeepLearning/Yolov5/best.pt'])\n",
            "YOLOv5 🚀 2021-5-3 torch 1.8.1+cu101 CUDA:0 (Tesla T4, 15109.75MB)\n",
            "\n",
            "Fusing layers... \n",
            "Model Summary: 224 layers, 7059304 parameters, 0 gradients\n",
            "image 1/1 /content/drive/MyDrive/aaa/part2_000433.jpg: 288x416 8 helmets, Done. (0.010s)\n",
            "Results saved to detect2/Result26\n",
            "1 labels saved to detect2/Result26/labels\n",
            "Done. (1.253s)\n",
            "Namespace(agnostic_nms=False, augment=False, classes=None, conf_thres=0.5, device='', exist_ok=False, hide_conf=False, hide_labels=False, img_size=416, iou_thres=0.45, line_thickness=3, name='Result', nosave=False, project='detect2', save_conf=False, save_crop=False, save_txt=True, source='/content/drive/MyDrive/aaa/part2_001085.jpg', update=False, view_img=False, weights=['/content/drive/MyDrive/DeepLearning/Yolov5/best.pt'])\n",
            "YOLOv5 🚀 v5.0-60-ge2a80c6 torch 1.8.1+cu101 CUDA:0 (Tesla T4, 15109.75MB)\n",
            "\n",
            "Fusing layers... \n",
            "Model Summary: 224 layers, 7059304 parameters, 0 gradients\n",
            "image 1/1 /content/drive/MyDrive/aaa/part2_001085.jpg: 288x416 1 helmet, Done. (0.009s)\n",
            "Results saved to detect2/Result27\n",
            "1 labels saved to detect2/Result27/labels\n",
            "Done. (1.278s)\n",
            "Namespace(agnostic_nms=False, augment=False, classes=None, conf_thres=0.5, device='', exist_ok=False, hide_conf=False, hide_labels=False, img_size=416, iou_thres=0.45, line_thickness=3, name='Result', nosave=False, project='detect2', save_conf=False, save_crop=False, save_txt=True, source='/content/drive/MyDrive/aaa/part2_001057.jpg', update=False, view_img=False, weights=['/content/drive/MyDrive/DeepLearning/Yolov5/best.pt'])\n",
            "YOLOv5 🚀 v5.0-60-ge2a80c6 torch 1.8.1+cu101 CUDA:0 (Tesla T4, 15109.75MB)\n",
            "\n",
            "Fusing layers... \n",
            "Model Summary: 224 layers, 7059304 parameters, 0 gradients\n",
            "image 1/1 /content/drive/MyDrive/aaa/part2_001057.jpg: 320x416 4 helmets, Done. (0.009s)\n",
            "Results saved to detect2/Result28\n",
            "1 labels saved to detect2/Result28/labels\n",
            "Done. (0.922s)\n",
            "Namespace(agnostic_nms=False, augment=False, classes=None, conf_thres=0.5, device='', exist_ok=False, hide_conf=False, hide_labels=False, img_size=416, iou_thres=0.45, line_thickness=3, name='Result', nosave=False, project='detect2', save_conf=False, save_crop=False, save_txt=True, source='/content/drive/MyDrive/aaa/part2_001010.jpg', update=False, view_img=False, weights=['/content/drive/MyDrive/DeepLearning/Yolov5/best.pt'])\n",
            "YOLOv5 🚀 v5.0-60-ge2a80c6 torch 1.8.1+cu101 CUDA:0 (Tesla T4, 15109.75MB)\n",
            "\n",
            "Fusing layers... \n",
            "Model Summary: 224 layers, 7059304 parameters, 0 gradients\n",
            "image 1/1 /content/drive/MyDrive/aaa/part2_001010.jpg: 320x416 2 helmets, Done. (0.009s)\n",
            "Results saved to detect2/Result29\n",
            "1 labels saved to detect2/Result29/labels\n",
            "Done. (4.806s)\n",
            "Namespace(agnostic_nms=False, augment=False, classes=None, conf_thres=0.5, device='', exist_ok=False, hide_conf=False, hide_labels=False, img_size=416, iou_thres=0.45, line_thickness=3, name='Result', nosave=False, project='detect2', save_conf=False, save_crop=False, save_txt=True, source='/content/drive/MyDrive/aaa/part2_000808.jpg', update=False, view_img=False, weights=['/content/drive/MyDrive/DeepLearning/Yolov5/best.pt'])\n",
            "YOLOv5 🚀 2021-5-3 torch 1.8.1+cu101 CUDA:0 (Tesla T4, 15109.75MB)\n",
            "\n"
          ],
          "name": "stdout"
        }
      ]
    },
    {
      "cell_type": "code",
      "metadata": {
        "id": "0tEl6KrsN56u"
      },
      "source": [
        "# 검사결과모습 보기\n",
        "\n",
        "from IPython.display import Image\n",
        "import os\n",
        "Image(os.path.join('/content/yolov5/runs/detect/exp', os.path.basename(val_img_path))) # 저장경로에 저장된 검출이미지모습보여주기모습보여주기"
      ],
      "execution_count": null,
      "outputs": []
    },
    {
      "cell_type": "markdown",
      "metadata": {
        "id": "REf4TvgUMzBK"
      },
      "source": [
        "# 동영상파일의 경우\n"
      ]
    },
    {
      "cell_type": "code",
      "metadata": {
        "id": "g5_3YEgRR982"
      },
      "source": [
        "python detect.py --source 동영상파일경로ython detect.py --source 동영상파일경로.mp4 --weights weight파일경로/best.pt.mp4 --weights weight파일경로/best.pt"
      ],
      "execution_count": null,
      "outputs": []
    },
    {
      "cell_type": "code",
      "metadata": {
        "id": "iVmG539Qf5zN"
      },
      "source": [
        ""
      ],
      "execution_count": null,
      "outputs": []
    }
  ]
}