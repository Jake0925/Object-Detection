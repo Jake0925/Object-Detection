{
 "cells": [
  {
   "cell_type": "code",
   "execution_count": 19,
   "metadata": {},
   "outputs": [
    {
     "name": "stdout",
     "output_type": "stream",
     "text": [
      "C:\\\n"
     ]
    }
   ],
   "source": [
    "cd /"
   ]
  },
  {
   "cell_type": "code",
   "execution_count": 1,
   "metadata": {},
   "outputs": [
    {
     "name": "stdout",
     "output_type": "stream",
     "text": [
      "525\n"
     ]
    }
   ],
   "source": [
    "from glob import glob\n",
    "\n",
    "Testimg_list = glob('C:/Users/jake/Desktop/Test/*.jpg')  # 이미지파일 경로입력하여 List에 담기\n",
    "ImgCount = len(Testimg_list)\n",
    "print(ImgCount) # 폴더안의 이미지 파일 총갯수"
   ]
  },
  {
   "cell_type": "code",
   "execution_count": 4,
   "metadata": {
    "scrolled": true
   },
   "outputs": [
    {
     "name": "stdout",
     "output_type": "stream",
     "text": [
      "[WinError 2] The system cannot find the file specified: '#현재경로확인'\n",
      "C:\\Users\\jake\\Desktop\\Python\\Yolov5\n"
     ]
    }
   ],
   "source": [
    "cd #현재경로확인"
   ]
  },
  {
   "cell_type": "markdown",
   "metadata": {},
   "source": [
    "detect.py가 있는 경로로 이동"
   ]
  },
  {
   "cell_type": "code",
   "execution_count": 2,
   "metadata": {
    "scrolled": true
   },
   "outputs": [
    {
     "name": "stdout",
     "output_type": "stream",
     "text": [
      "C:\\Users\\jake\\Desktop\\Python\\Yolov5\\yolov5\n"
     ]
    }
   ],
   "source": [
    "cd C:/Users/jake/Desktop/Python/Yolov5/yolov5/"
   ]
  },
  {
   "cell_type": "code",
   "execution_count": 25,
   "metadata": {
    "scrolled": false
   },
   "outputs": [
    {
     "name": "stdout",
     "output_type": "stream",
     "text": [
      "Namespace(agnostic_nms=False, augment=False, classes=None, conf_thres=0.5, device='', exist_ok=True, hide_conf=False, hide_labels=False, img_size=416, iou_thres=0.45, line_thickness=3, name='Result', nosave=True, project='detect2', save_conf=False, save_crop=False, save_txt=True, source='C:/Users/jake/Desktop/again\\\\1000.jpg', update=False, view_img=False, weights=['C:/Users/jake/Desktop/Python/Yolov5/best.pt'])\n",
      "image 1/1 C:\\Users\\jake\\Desktop\\again\\1000.jpg: 320x416 9 helmets, Done. (0.064s)\n",
      "Results saved to detect2\\Result\n",
      "1 labels saved to detect2\\Result\\labels\n",
      "Done. (0.081s)\n"
     ]
    },
    {
     "name": "stderr",
     "output_type": "stream",
     "text": [
      "YOLOv5  v5.0-60-ge2a80c6 torch 1.8.1+cpu CPU\n",
      "\n",
      "Fusing layers... \n",
      "Model Summary: 224 layers, 7059304 parameters, 0 gradients\n"
     ]
    },
    {
     "name": "stdout",
     "output_type": "stream",
     "text": [
      "Namespace(agnostic_nms=False, augment=False, classes=None, conf_thres=0.5, device='', exist_ok=True, hide_conf=False, hide_labels=False, img_size=416, iou_thres=0.45, line_thickness=3, name='Result', nosave=True, project='detect2', save_conf=False, save_crop=False, save_txt=True, source='C:/Users/jake/Desktop/again\\\\1001.jpg', update=False, view_img=False, weights=['C:/Users/jake/Desktop/Python/Yolov5/best.pt'])\n",
      "image 1/1 C:\\Users\\jake\\Desktop\\again\\1001.jpg: 416x320 5 helmets, Done. (0.066s)\n",
      "Results saved to detect2\\Result\n",
      "2 labels saved to detect2\\Result\\labels\n",
      "Done. (0.077s)\n"
     ]
    },
    {
     "name": "stderr",
     "output_type": "stream",
     "text": [
      "YOLOv5  v5.0-60-ge2a80c6 torch 1.8.1+cpu CPU\n",
      "\n",
      "Fusing layers... \n",
      "Model Summary: 224 layers, 7059304 parameters, 0 gradients\n"
     ]
    },
    {
     "name": "stdout",
     "output_type": "stream",
     "text": [
      "Namespace(agnostic_nms=False, augment=False, classes=None, conf_thres=0.5, device='', exist_ok=True, hide_conf=False, hide_labels=False, img_size=416, iou_thres=0.45, line_thickness=3, name='Result', nosave=True, project='detect2', save_conf=False, save_crop=False, save_txt=True, source='C:/Users/jake/Desktop/again\\\\1002.jpg', update=False, view_img=False, weights=['C:/Users/jake/Desktop/Python/Yolov5/best.pt'])\n",
      "image 1/1 C:\\Users\\jake\\Desktop\\again\\1002.jpg: 320x416 23 helmets, Done. (0.067s)\n",
      "Results saved to detect2\\Result\n",
      "3 labels saved to detect2\\Result\\labels\n",
      "Done. (0.103s)\n"
     ]
    },
    {
     "name": "stderr",
     "output_type": "stream",
     "text": [
      "YOLOv5  v5.0-60-ge2a80c6 torch 1.8.1+cpu CPU\n",
      "\n",
      "Fusing layers... \n",
      "Model Summary: 224 layers, 7059304 parameters, 0 gradients\n"
     ]
    }
   ],
   "source": [
    "#for i in range(ImgCount):\n",
    "for i in range(3):\n",
    "  val_img_path = Testimg_list[i]  # 이미지파일 경로삽입\n",
    "  !python detect.py --weights C:/Users/jake/Desktop/Python/Yolov5/best.pt --img 416 --conf 0.5 --source \"{val_img_path}\" --project \"detect2\" --name \"Result\" --save-txt --nosave  --exist-ok \n",
    "# conf - 최소 매칭율, \n",
    "# img 416 - 이미지사이즈를 416픽셀 크기로 변환하여 검사\n",
    "# weights - 학습된 \".pt\"파일이 있는 경로 지정 \n",
    "# --source - 검사할 이미지파일 경로\n",
    "# --project - 결과값을 저장할 폴더이름 초기값 detect\n",
    "# --name - 결과값을 저장을 하위폴더이름 초기값 exp\n",
    "# --save-txt - label값 저장사용\n",
    "# --nosave - 결과표시된 이미지 저장 사용안함\n",
    "# --exist-ok - 결과값 저장시 같은이름의 폴더저장, 이걸 사용안하는경우 검사할때마대 새로운이름의 폴더가 생성됨\n"
   ]
  },
  {
   "cell_type": "code",
   "execution_count": null,
   "metadata": {},
   "outputs": [],
   "source": []
  }
 ],
 "metadata": {
  "kernelspec": {
   "display_name": "Python 3",
   "language": "python",
   "name": "python3"
  },
  "language_info": {
   "codemirror_mode": {
    "name": "ipython",
    "version": 3
   },
   "file_extension": ".py",
   "mimetype": "text/x-python",
   "name": "python",
   "nbconvert_exporter": "python",
   "pygments_lexer": "ipython3",
   "version": "3.8.5"
  }
 },
 "nbformat": 4,
 "nbformat_minor": 4
}
