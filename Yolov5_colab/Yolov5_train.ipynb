{
  "nbformat": 4,
  "nbformat_minor": 0,
  "metadata": {
    "colab": {
      "name": "Yolov5_train.ipynb",
      "provenance": [],
      "collapsed_sections": [],
      "mount_file_id": "1CPSB9hn8VEOzdkxR7MnRCyPr-tOpafHK",
      "authorship_tag": "ABX9TyPw7Lx0f5sFPxZhRAkrx2Ld",
      "include_colab_link": true
    },
    "kernelspec": {
      "name": "python3",
      "display_name": "Python 3"
    },
    "language_info": {
      "name": "python"
    },
    "accelerator": "GPU"
  },
  "cells": [
    {
      "cell_type": "markdown",
      "metadata": {
        "id": "view-in-github",
        "colab_type": "text"
      },
      "source": [
        "<a href=\"https://colab.research.google.com/github/Jake0925/Object-Detection/blob/main/Yolov5_train.ipynb\" target=\"_parent\"><img src=\"https://colab.research.google.com/assets/colab-badge.svg\" alt=\"Open In Colab\"/></a>"
      ]
    },
    {
      "cell_type": "markdown",
      "metadata": {
        "id": "WAusBm8OY41w"
      },
      "source": [
        "Zip파일 압축해제\n",
        "- Drive를 마운트하여 이미지를 검사하는경우 속도가 매우 느림\n",
        "- 따라서 /content/ 폴더에 직접 이미지를 옮겼더니 속도가 빨라짐\n",
        "- dataset이 대용량이라 직접 옮기는 경우 문제가발생하므로 Drive에 먼저 zip을 업로드한다\n",
        "-그다음 압축해제는 /content/ 폴더에 하면 쉽고 빨리 dataset을 업로드 할수 있다"
      ]
    },
    {
      "cell_type": "code",
      "metadata": {
        "id": "3eaVhxnI3Oup"
      },
      "source": [
        "!unzip -uq \"//content/drive/MyDrive/dataset.zip\" -d \"/content/\" "
      ],
      "execution_count": null,
      "outputs": []
    },
    {
      "cell_type": "markdown",
      "metadata": {
        "id": "hJAfqHVTkdNU"
      },
      "source": [
        "yolo 다운로드"
      ]
    },
    {
      "cell_type": "code",
      "metadata": {
        "id": "y6qW-PsD0bou"
      },
      "source": [
        "%cd /content\n",
        "\n",
        "!git clone https://github.com/ultralytics/yolov5.git"
      ],
      "execution_count": null,
      "outputs": []
    },
    {
      "cell_type": "markdown",
      "metadata": {
        "id": "1seXvaQVkhwb"
      },
      "source": [
        "필요파일 다운로드"
      ]
    },
    {
      "cell_type": "code",
      "metadata": {
        "id": "tcZRn9VK0eI0"
      },
      "source": [
        "%cd /content/yolov5\n",
        "!pip install -r requirements.txt"
      ],
      "execution_count": null,
      "outputs": []
    },
    {
      "cell_type": "code",
      "metadata": {
        "colab": {
          "base_uri": "https://localhost:8080/"
        },
        "id": "uB2sKv_Z025S",
        "outputId": "1b0a41c0-66af-4cee-c804-75f79250370c"
      },
      "source": [
        "%cat /content/dataset/data.yaml"
      ],
      "execution_count": 8,
      "outputs": [
        {
          "output_type": "stream",
          "text": [
            "names:\r\n",
            "- head\r\n",
            "- helmet\r\n",
            "- person\r\n",
            "nc: 3\r\n",
            "train: C:/Users/Jake/Desktop/Python/Yolov5/Dataset/train/train.txt\r\n",
            "val: C:/Users/Jake/Desktop/Python/Yolov5/Dataset/train/val.txt\r\n"
          ],
          "name": "stdout"
        }
      ]
    },
    {
      "cell_type": "markdown",
      "metadata": {
        "id": "SRpwRO-0kmWK"
      },
      "source": [
        "폴더안의 모든이미지 리스트에 담기"
      ]
    },
    {
      "cell_type": "code",
      "metadata": {
        "colab": {
          "base_uri": "https://localhost:8080/"
        },
        "id": "jWopfiUX0-XO",
        "outputId": "994b69d5-5d7f-46c1-d1d9-7ffe34520990"
      },
      "source": [
        "%cd /\n",
        "from glob import glob\n",
        "\n",
        "img_list = glob('/content/dataset/train/images/*.*')\n",
        "#img_list = glob('/content/dataset/train/images/*.jpg')\n",
        "\n",
        "print(len(img_list)) # 총 이미지 갯수"
      ],
      "execution_count": 2,
      "outputs": [
        {
          "output_type": "stream",
          "text": [
            "/\n",
            "9999\n"
          ],
          "name": "stdout"
        }
      ]
    },
    {
      "cell_type": "markdown",
      "metadata": {
        "id": "zYEgJ8qckx2C"
      },
      "source": [
        "train과 valid 분리"
      ]
    },
    {
      "cell_type": "code",
      "metadata": {
        "colab": {
          "base_uri": "https://localhost:8080/"
        },
        "id": "jjaI2yaC1CCg",
        "outputId": "2eb6820c-b474-4bb5-8e6e-ffedf2795960"
      },
      "source": [
        "from sklearn.model_selection import train_test_split\n",
        "train_img_list, val_img_list = train_test_split(img_list, test_size=0.3, random_state=9999)\n",
        "print(len(train_img_list), len(val_img_list))"
      ],
      "execution_count": 3,
      "outputs": [
        {
          "output_type": "stream",
          "text": [
            "6999 3000\n"
          ],
          "name": "stdout"
        }
      ]
    },
    {
      "cell_type": "markdown",
      "metadata": {
        "id": "Gfn2RjPBk4je"
      },
      "source": [
        "txt파일 생성하여 train과 val에 해당하는 이미지파일 이름 적기"
      ]
    },
    {
      "cell_type": "code",
      "metadata": {
        "id": "lBp0bgJn1VDI"
      },
      "source": [
        "with open('/content/dataset/train/train.txt', 'w') as f:\n",
        "  f.write('\\n'.join(train_img_list) + '\\n')\n",
        "\n",
        "with open('/content/dataset/train/val.txt', 'w') as f:\n",
        "  f.write('\\n'.join(val_img_list) + '\\n')"
      ],
      "execution_count": 4,
      "outputs": []
    },
    {
      "cell_type": "code",
      "metadata": {
        "colab": {
          "base_uri": "https://localhost:8080/"
        },
        "id": "FGzHtF9I1Yhg",
        "outputId": "09c13632-1eee-4921-fe69-1f8ee75f494f"
      },
      "source": [
        "import yaml\n",
        "\n",
        "with open('/content/dataset/data.yaml', 'r') as f:\n",
        "  data = yaml.load(f)\n",
        "\n",
        "print(data)\n",
        "\n",
        "data['train'] = '/content/dataset/train/train.txt'\n",
        "data['val'] = '/content/dataset/train/val.txt'\n",
        "\n",
        "with open('/content/dataset/data.yaml', 'w') as f:\n",
        "  yaml.dump(data, f)\n",
        "\n",
        "print(data)"
      ],
      "execution_count": 5,
      "outputs": [
        {
          "output_type": "stream",
          "text": [
            "{'names': ['head', 'helmet', 'person'], 'nc': 3, 'train': '/content/dataset/train/train.txt', 'val': '/content/dataset/train/val.txt'}\n",
            "{'names': ['head', 'helmet', 'person'], 'nc': 3, 'train': '/content/dataset/train/train.txt', 'val': '/content/dataset/train/val.txt'}\n"
          ],
          "name": "stdout"
        },
        {
          "output_type": "stream",
          "text": [
            "/usr/local/lib/python3.7/dist-packages/ipykernel_launcher.py:4: YAMLLoadWarning: calling yaml.load() without Loader=... is deprecated, as the default Loader is unsafe. Please read https://msg.pyyaml.org/load for full details.\n",
            "  after removing the cwd from sys.path.\n"
          ],
          "name": "stderr"
        }
      ]
    },
    {
      "cell_type": "markdown",
      "metadata": {
        "id": "k-FphWrRlVky"
      },
      "source": [
        "학습"
      ]
    },
    {
      "cell_type": "code",
      "metadata": {
        "colab": {
          "base_uri": "https://localhost:8080/"
        },
        "id": "0ROfZzKK1cA0",
        "outputId": "d78a6cf9-7f87-490d-81dd-11e7f0eac8e0"
      },
      "source": [
        "%cd /content/yolov5/\n",
        "\n",
        "!python train.py --img 416 --batch 16 --epochs 20 --data /content/dataset/data.yaml --cfg ./models/yolov5s.yaml --weights yolov5s.pt --name Helmet_yolov5s_results"
      ],
      "execution_count": 2,
      "outputs": [
        {
          "output_type": "stream",
          "text": [
            "/content/yolov5\n",
            "\u001b[34m\u001b[1mgithub: \u001b[0mup to date with https://github.com/ultralytics/yolov5 ✅\n",
            "YOLOv5 🚀 v5.0-81-gabfcf9e torch 1.8.1+cu101 CUDA:0 (Tesla T4, 15109.75MB)\n",
            "\n",
            "Namespace(adam=False, artifact_alias='latest', batch_size=16, bbox_interval=-1, bucket='', cache_images=False, cfg='./models/yolov5s.yaml', data='/content/dataset/data.yaml', device='', entity=None, epochs=20, evolve=False, exist_ok=False, global_rank=-1, hyp='data/hyp.scratch.yaml', image_weights=False, img_size=[416, 416], label_smoothing=0.0, linear_lr=False, local_rank=-1, multi_scale=False, name='Helmet_yolov5s_results', noautoanchor=False, nosave=False, notest=False, project='runs/train', quad=False, rect=False, resume=False, save_dir='runs/train/Helmet_yolov5s_results4', save_period=-1, single_cls=False, sync_bn=False, total_batch_size=16, upload_dataset=False, weights='yolov5s.pt', workers=8, world_size=1)\n",
            "\u001b[34m\u001b[1mtensorboard: \u001b[0mStart with 'tensorboard --logdir runs/train', view at http://localhost:6006/\n",
            "2021-05-11 08:22:15.190148: I tensorflow/stream_executor/platform/default/dso_loader.cc:49] Successfully opened dynamic library libcudart.so.11.0\n",
            "\u001b[34m\u001b[1mhyperparameters: \u001b[0mlr0=0.01, lrf=0.2, momentum=0.937, weight_decay=0.0005, warmup_epochs=3.0, warmup_momentum=0.8, warmup_bias_lr=0.1, box=0.05, cls=0.5, cls_pw=1.0, obj=1.0, obj_pw=1.0, iou_t=0.2, anchor_t=4.0, fl_gamma=0.0, hsv_h=0.015, hsv_s=0.7, hsv_v=0.4, degrees=0.0, translate=0.1, scale=0.5, shear=0.0, perspective=0.0, flipud=0.0, fliplr=0.5, mosaic=1.0, mixup=0.0\n",
            "\u001b[34m\u001b[1mwandb: \u001b[0mInstall Weights & Biases for YOLOv5 logging with 'pip install wandb' (recommended)\n",
            "Overriding model.yaml nc=80 with nc=3\n",
            "\n",
            "                 from  n    params  module                                  arguments                     \n",
            "  0                -1  1      3520  models.common.Focus                     [3, 32, 3]                    \n",
            "  1                -1  1     18560  models.common.Conv                      [32, 64, 3, 2]                \n",
            "  2                -1  1     18816  models.common.C3                        [64, 64, 1]                   \n",
            "  3                -1  1     73984  models.common.Conv                      [64, 128, 3, 2]               \n",
            "  4                -1  1    156928  models.common.C3                        [128, 128, 3]                 \n",
            "  5                -1  1    295424  models.common.Conv                      [128, 256, 3, 2]              \n",
            "  6                -1  1    625152  models.common.C3                        [256, 256, 3]                 \n",
            "  7                -1  1   1180672  models.common.Conv                      [256, 512, 3, 2]              \n",
            "  8                -1  1    656896  models.common.SPP                       [512, 512, [5, 9, 13]]        \n",
            "  9                -1  1   1182720  models.common.C3                        [512, 512, 1, False]          \n",
            " 10                -1  1    131584  models.common.Conv                      [512, 256, 1, 1]              \n",
            " 11                -1  1         0  torch.nn.modules.upsampling.Upsample    [None, 2, 'nearest']          \n",
            " 12           [-1, 6]  1         0  models.common.Concat                    [1]                           \n",
            " 13                -1  1    361984  models.common.C3                        [512, 256, 1, False]          \n",
            " 14                -1  1     33024  models.common.Conv                      [256, 128, 1, 1]              \n",
            " 15                -1  1         0  torch.nn.modules.upsampling.Upsample    [None, 2, 'nearest']          \n",
            " 16           [-1, 4]  1         0  models.common.Concat                    [1]                           \n",
            " 17                -1  1     90880  models.common.C3                        [256, 128, 1, False]          \n",
            " 18                -1  1    147712  models.common.Conv                      [128, 128, 3, 2]              \n",
            " 19          [-1, 14]  1         0  models.common.Concat                    [1]                           \n",
            " 20                -1  1    296448  models.common.C3                        [256, 256, 1, False]          \n",
            " 21                -1  1    590336  models.common.Conv                      [256, 256, 3, 2]              \n",
            " 22          [-1, 10]  1         0  models.common.Concat                    [1]                           \n",
            " 23                -1  1   1182720  models.common.C3                        [512, 512, 1, False]          \n",
            " 24      [17, 20, 23]  1     21576  models.yolo.Detect                      [3, [[10, 13, 16, 30, 33, 23], [30, 61, 62, 45, 59, 119], [116, 90, 156, 198, 373, 326]], [128, 256, 512]]\n",
            "Model Summary: 283 layers, 7068936 parameters, 7068936 gradients, 16.4 GFLOPS\n",
            "\n",
            "Transferred 354/362 items from yolov5s.pt\n",
            "Scaled weight_decay = 0.0005\n",
            "Optimizer groups: 62 .bias, 62 conv.weight, 59 other\n",
            "\u001b[34m\u001b[1mtrain: \u001b[0mScanning '/content/dataset/train/train.cache' images and labels... 6999 found, 0 missing, 0 empty, 0 corrupted: 100% 6999/6999 [00:00<00:00, 58130561.77it/s]\n",
            "\u001b[34m\u001b[1mval: \u001b[0mScanning '/content/dataset/train/val.cache' images and labels... 3000 found, 0 missing, 0 empty, 0 corrupted: 100% 3000/3000 [00:00<00:00, 18558867.26it/s]\n",
            "Plotting labels... \n",
            "\n",
            "\u001b[34m\u001b[1mautoanchor: \u001b[0mAnalyzing anchors... anchors/target = 5.53, Best Possible Recall (BPR) = 0.9998\n",
            "Image sizes 416 train, 416 test\n",
            "Using 2 dataloader workers\n",
            "Logging results to runs/train/Helmet_yolov5s_results4\n",
            "Starting training for 20 epochs...\n",
            "\n",
            "     Epoch   gpu_mem       box       obj       cls     total    labels  img_size\n",
            "      0/19    0.851G   0.07494   0.03242   0.01965     0.127        50       416: 100% 438/438 [03:55<00:00,  1.86it/s]\n",
            "               Class      Images      Labels           P           R      mAP@.5  mAP@.5:.95: 100% 94/94 [00:37<00:00,  2.51it/s]\n",
            "                 all        3000       11086        0.72       0.478       0.428       0.181\n",
            "\n",
            "     Epoch   gpu_mem       box       obj       cls     total    labels  img_size\n",
            "      1/19     1.37G   0.05178   0.02603  0.007159   0.08497        35       416: 100% 438/438 [03:57<00:00,  1.84it/s]\n",
            "               Class      Images      Labels           P           R      mAP@.5  mAP@.5:.95: 100% 94/94 [00:36<00:00,  2.58it/s]\n",
            "                 all        3000       11086       0.909        0.55       0.587       0.339\n",
            "\n",
            "     Epoch   gpu_mem       box       obj       cls     total    labels  img_size\n",
            "      2/19     1.37G   0.04553   0.02528  0.005511   0.07632        67       416: 100% 438/438 [03:54<00:00,  1.87it/s]\n",
            "               Class      Images      Labels           P           R      mAP@.5  mAP@.5:.95: 100% 94/94 [00:38<00:00,  2.47it/s]\n",
            "                 all        3000       11086       0.853       0.526       0.546       0.297\n",
            "\n",
            "     Epoch   gpu_mem       box       obj       cls     total    labels  img_size\n",
            "      3/19     1.37G   0.04066   0.02458  0.004975   0.07022        84       416: 100% 438/438 [03:50<00:00,  1.90it/s]\n",
            "               Class      Images      Labels           P           R      mAP@.5  mAP@.5:.95: 100% 94/94 [00:37<00:00,  2.50it/s]\n",
            "                 all        3000       11086       0.925       0.566       0.598       0.381\n",
            "\n",
            "     Epoch   gpu_mem       box       obj       cls     total    labels  img_size\n",
            "      4/19     1.37G   0.03654   0.02412  0.004225   0.06488        49       416: 100% 438/438 [03:57<00:00,  1.84it/s]\n",
            "               Class      Images      Labels           P           R      mAP@.5  mAP@.5:.95: 100% 94/94 [00:36<00:00,  2.57it/s]\n",
            "                 all        3000       11086        0.93       0.579       0.604        0.37\n",
            "\n",
            "     Epoch   gpu_mem       box       obj       cls     total    labels  img_size\n",
            "      5/19     1.37G    0.0352    0.0239  0.003811   0.06292        57       416: 100% 438/438 [03:58<00:00,  1.83it/s]\n",
            "               Class      Images      Labels           P           R      mAP@.5  mAP@.5:.95: 100% 94/94 [00:37<00:00,  2.54it/s]\n",
            "                 all        3000       11086       0.934       0.574       0.603       0.371\n",
            "\n",
            "     Epoch   gpu_mem       box       obj       cls     total    labels  img_size\n",
            "      6/19     1.37G   0.03374   0.02339  0.003754   0.06088        30       416: 100% 438/438 [03:58<00:00,  1.84it/s]\n",
            "               Class      Images      Labels           P           R      mAP@.5  mAP@.5:.95: 100% 94/94 [00:37<00:00,  2.49it/s]\n",
            "                 all        3000       11086       0.939        0.58       0.612       0.402\n",
            "\n",
            "     Epoch   gpu_mem       box       obj       cls     total    labels  img_size\n",
            "      7/19     1.37G   0.03267     0.023  0.003292   0.05897       101       416: 100% 438/438 [03:59<00:00,  1.83it/s]\n",
            "               Class      Images      Labels           P           R      mAP@.5  mAP@.5:.95: 100% 94/94 [00:36<00:00,  2.54it/s]\n",
            "                 all        3000       11086       0.938       0.585       0.616       0.402\n",
            "\n",
            "     Epoch   gpu_mem       box       obj       cls     total    labels  img_size\n",
            "      8/19     1.37G   0.03148   0.02269  0.003147   0.05732        40       416: 100% 438/438 [03:53<00:00,  1.87it/s]\n",
            "               Class      Images      Labels           P           R      mAP@.5  mAP@.5:.95: 100% 94/94 [00:36<00:00,  2.59it/s]\n",
            "                 all        3000       11086       0.934       0.589       0.613       0.411\n",
            "\n",
            "     Epoch   gpu_mem       box       obj       cls     total    labels  img_size\n",
            "      9/19     1.37G   0.03096   0.02229  0.002851    0.0561        55       416: 100% 438/438 [03:54<00:00,  1.86it/s]\n",
            "               Class      Images      Labels           P           R      mAP@.5  mAP@.5:.95: 100% 94/94 [00:36<00:00,  2.55it/s]\n",
            "                 all        3000       11086       0.941       0.589       0.617       0.412\n",
            "\n",
            "     Epoch   gpu_mem       box       obj       cls     total    labels  img_size\n",
            "     10/19     1.37G   0.03059   0.02256  0.002938   0.05608       107       416: 100% 438/438 [03:53<00:00,  1.88it/s]\n",
            "               Class      Images      Labels           P           R      mAP@.5  mAP@.5:.95: 100% 94/94 [00:37<00:00,  2.52it/s]\n",
            "                 all        3000       11086       0.939       0.592       0.619       0.414\n",
            "\n",
            "     Epoch   gpu_mem       box       obj       cls     total    labels  img_size\n",
            "     11/19     1.37G   0.02993   0.02182  0.002639   0.05439        48       416: 100% 438/438 [03:55<00:00,  1.86it/s]\n",
            "               Class      Images      Labels           P           R      mAP@.5  mAP@.5:.95: 100% 94/94 [00:36<00:00,  2.58it/s]\n",
            "                 all        3000       11086       0.938       0.594       0.618       0.415\n",
            "\n",
            "     Epoch   gpu_mem       box       obj       cls     total    labels  img_size\n",
            "     12/19     1.37G   0.02949   0.02176  0.002503   0.05375        59       416: 100% 438/438 [04:01<00:00,  1.81it/s]\n",
            "               Class      Images      Labels           P           R      mAP@.5  mAP@.5:.95: 100% 94/94 [00:36<00:00,  2.58it/s]\n",
            "                 all        3000       11086       0.935         0.6        0.62       0.421\n",
            "\n",
            "     Epoch   gpu_mem       box       obj       cls     total    labels  img_size\n",
            "     13/19     1.37G   0.02853   0.02155  0.002401   0.05247        58       416: 100% 438/438 [03:55<00:00,  1.86it/s]\n",
            "               Class      Images      Labels           P           R      mAP@.5  mAP@.5:.95: 100% 94/94 [00:36<00:00,  2.58it/s]\n",
            "                 all        3000       11086       0.936       0.598       0.618        0.42\n",
            "\n",
            "     Epoch   gpu_mem       box       obj       cls     total    labels  img_size\n",
            "     14/19     1.37G   0.02876   0.02159  0.002363   0.05272        56       416: 100% 438/438 [03:54<00:00,  1.87it/s]\n",
            "               Class      Images      Labels           P           R      mAP@.5  mAP@.5:.95: 100% 94/94 [00:36<00:00,  2.60it/s]\n",
            "                 all        3000       11086       0.939       0.601       0.621       0.422\n",
            "\n",
            "     Epoch   gpu_mem       box       obj       cls     total    labels  img_size\n",
            "     15/19     1.37G   0.02814   0.02133  0.002203   0.05167        56       416: 100% 438/438 [03:51<00:00,  1.89it/s]\n",
            "               Class      Images      Labels           P           R      mAP@.5  mAP@.5:.95: 100% 94/94 [00:37<00:00,  2.54it/s]\n",
            "                 all        3000       11086       0.939       0.597        0.62       0.425\n",
            "\n",
            "     Epoch   gpu_mem       box       obj       cls     total    labels  img_size\n",
            "     16/19     1.37G   0.02769   0.02081  0.001975   0.05048        49       416: 100% 438/438 [04:00<00:00,  1.82it/s]\n",
            "               Class      Images      Labels           P           R      mAP@.5  mAP@.5:.95: 100% 94/94 [00:36<00:00,  2.56it/s]\n",
            "                 all        3000       11086       0.605       0.603       0.622       0.429\n",
            "\n",
            "     Epoch   gpu_mem       box       obj       cls     total    labels  img_size\n",
            "     17/19     1.37G   0.02714   0.02069  0.001865    0.0497        84       416: 100% 438/438 [03:58<00:00,  1.83it/s]\n",
            "               Class      Images      Labels           P           R      mAP@.5  mAP@.5:.95: 100% 94/94 [00:37<00:00,  2.49it/s]\n",
            "                 all        3000       11086       0.614       0.605       0.622        0.43\n",
            "\n",
            "     Epoch   gpu_mem       box       obj       cls     total    labels  img_size\n",
            "     18/19     1.37G    0.0272    0.0207  0.001839   0.04973        70       416: 100% 438/438 [04:02<00:00,  1.81it/s]\n",
            "               Class      Images      Labels           P           R      mAP@.5  mAP@.5:.95: 100% 94/94 [00:37<00:00,  2.49it/s]\n",
            "                 all        3000       11086       0.618        0.61       0.622       0.431\n",
            "\n",
            "     Epoch   gpu_mem       box       obj       cls     total    labels  img_size\n",
            "     19/19     1.37G     0.027   0.02036  0.001809   0.04917        56       416: 100% 438/438 [03:56<00:00,  1.85it/s]\n",
            "               Class      Images      Labels           P           R      mAP@.5  mAP@.5:.95: 100% 94/94 [00:39<00:00,  2.36it/s]\n",
            "                 all        3000       11086       0.604       0.606       0.621       0.431\n",
            "                head        3000        2256       0.895       0.906       0.933        0.64\n",
            "              helmet        3000        8694       0.916       0.914       0.927       0.653\n",
            "              person        3000         136           0           0     0.00171    0.000784\n",
            "20 epochs completed in 1.528 hours.\n",
            "\n",
            "Optimizer stripped from runs/train/Helmet_yolov5s_results4/weights/last.pt, 14.4MB\n",
            "Optimizer stripped from runs/train/Helmet_yolov5s_results4/weights/best.pt, 14.4MB\n"
          ],
          "name": "stdout"
        }
      ]
    },
    {
      "cell_type": "code",
      "metadata": {
        "id": "O_19fDH31kZw"
      },
      "source": [
        ""
      ],
      "execution_count": null,
      "outputs": []
    },
    {
      "cell_type": "code",
      "metadata": {
        "id": "R9OghrwYxi46"
      },
      "source": [
        ""
      ],
      "execution_count": null,
      "outputs": []
    }
  ]
}
