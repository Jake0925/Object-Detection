{
  "nbformat": 4,
  "nbformat_minor": 0,
  "metadata": {
    "colab": {
      "name": "Yolov5_test.ipynb",
      "provenance": [],
      "collapsed_sections": [],
      "authorship_tag": "ABX9TyMEcOALvkcovq4Qa8TUaU+d",
      "include_colab_link": true
    },
    "kernelspec": {
      "name": "python3",
      "display_name": "Python 3"
    },
    "language_info": {
      "name": "python"
    }
  },
  "cells": [
    {
      "cell_type": "markdown",
      "metadata": {
        "id": "view-in-github",
        "colab_type": "text"
      },
      "source": [
        "<a href=\"https://colab.research.google.com/github/Jake0925/Object-Detection/blob/main/Yolov5_test.ipynb\" target=\"_parent\"><img src=\"https://colab.research.google.com/assets/colab-badge.svg\" alt=\"Open In Colab\"/></a>"
      ]
    },
    {
      "cell_type": "markdown",
      "metadata": {
        "id": "khhCLWcjoMNa"
      },
      "source": [
        "폴더안의 모든이미지 리스트에 담기"
      ]
    },
    {
      "cell_type": "code",
      "metadata": {
        "id": "Vd3mZ6lAoJ6x"
      },
      "source": [
        "%cd /\n",
        "from glob import glob\n",
        "\n",
        "Testimg_list = glob('/content/drive/MyDrive/aaa/*.jpg')  # 이미지파일 경로입력하여 List에 담기\n",
        "ImgCount = len(Testimg_list) # 폴더안의 이미지 파일 총갯수\n",
        "print(ImgCount) "
      ],
      "execution_count": null,
      "outputs": []
    },
    {
      "cell_type": "markdown",
      "metadata": {
        "id": "WnVeQp36oaTb"
      },
      "source": [
        "이미지 테스트 실행"
      ]
    },
    {
      "cell_type": "code",
      "metadata": {
        "id": "kchmyxUwobap"
      },
      "source": [
        "%cd /content/drive/MyDrive/DeepLearning/Yolov5/yolov5\n",
        "# detect.py 파일이 들어있는 경로를 반드시 지정해줘야한다\n",
        "\n",
        "for i in range(ImgCount):\n",
        "  val_img_path = Testimg_list[i]  # 이미지파일 경로삽입\n",
        "  !python detect.py --weights /content/drive/MyDrive/DeepLearning/Yolov5/best.pt --img 416 --conf 0.5 --source \"{val_img_path}\" --project \"detect2\" --name \"Result\" --save-txt --nosave  --exist-ok \n",
        "# conf - 최소 매칭율, \n",
        "# img 416 - 이미지사이즈를 416픽셀 크기로 변환하여 검사\n",
        "# weights - 학습된 \".pt\"파일이 있는 경로 지정 \n",
        "# --source - 검사할 이미지파일 경로\n",
        "# --project - 결과값을 저장할 폴더이름 초기값 detect\n",
        "# --name - 결과값을 저장을 하위폴더이름 초기값 exp\n",
        "# --save-txt - label값 저장사용\n",
        "# --nosave - 결과표시된 이미지 저장 사용안함\n",
        "# --exist-ok - 결과값 저장시 같은이름의 폴더저장, 이걸 사용안하는경우 검사할때마대 새로운이름의 폴더가 생성됨"
      ],
      "execution_count": null,
      "outputs": []
    },
    {
      "cell_type": "markdown",
      "metadata": {
        "id": "_8E3pUj_oxR_"
      },
      "source": [
        "검사모습보기\n",
        "\n"
      ]
    },
    {
      "cell_type": "code",
      "metadata": {
        "id": "4_k_-Kxfoxmb"
      },
      "source": [
        "from IPython.display import Image\n",
        "import os\n",
        "Image(os.path.join('/content/yolov5/runs/detect/exp', os.path.basename(val_img_path))) # 저장경로에 저장된 검출이미지모습보여주기모습보여주기"
      ],
      "execution_count": null,
      "outputs": []
    }
  ]
}
