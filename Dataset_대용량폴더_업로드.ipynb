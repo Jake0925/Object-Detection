{
  "nbformat": 4,
  "nbformat_minor": 0,
  "metadata": {
    "colab": {
      "name": "Dataset 대용량폴더 업로드.ipynb",
      "provenance": [],
      "collapsed_sections": [],
      "authorship_tag": "ABX9TyPwguY1Yhn68EyZlfRdAhOa",
      "include_colab_link": true
    },
    "kernelspec": {
      "name": "python3",
      "display_name": "Python 3"
    },
    "language_info": {
      "name": "python"
    }
  },
  "cells": [
    {
      "cell_type": "markdown",
      "metadata": {
        "id": "view-in-github",
        "colab_type": "text"
      },
      "source": [
        "<a href=\"https://colab.research.google.com/github/Jake0925/Object-Detection/blob/main/Dataset_%EB%8C%80%EC%9A%A9%EB%9F%89%ED%8F%B4%EB%8D%94_%EC%97%85%EB%A1%9C%EB%93%9C.ipynb\" target=\"_parent\"><img src=\"https://colab.research.google.com/assets/colab-badge.svg\" alt=\"Open In Colab\"/></a>"
      ]
    },
    {
      "cell_type": "markdown",
      "metadata": {
        "id": "acPtjRgm4cA0"
      },
      "source": [
        "Zip파일 압축해제\n",
        "\n",
        "- Drive를 마운트하여 이미지를 검사하는경우 속도가 매우 느림\n",
        "- 따라서 /content/ 폴더에 직접 이미지를 옮겼더니 속도가 빨라짐\n",
        "- dataset이 대용량이라 직접 옮기는 경우 문제가발생하므로 Drive에 먼저 zip을 업로드한다\n",
        "- 그다음 압축해제는 /content/ 폴더에 하면 쉽고 빨리 dataset을 업로드 할수 있다"
      ]
    },
    {
      "cell_type": "code",
      "metadata": {
        "id": "oRaBM_nT4j6I"
      },
      "source": [
        "!unzip -uq \"//content/drive/MyDrive/dataset.zip\" -d \"/content/\" "
      ],
      "execution_count": null,
      "outputs": []
    }
  ]
}